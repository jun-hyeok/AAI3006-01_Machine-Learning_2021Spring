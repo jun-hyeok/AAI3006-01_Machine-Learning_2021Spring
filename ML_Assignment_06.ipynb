{
  "nbformat": 4,
  "nbformat_minor": 0,
  "metadata": {
    "colab": {
      "name": "ML-Assignment-06.ipynb",
      "provenance": [],
      "collapsed_sections": [],
      "include_colab_link": true
    },
    "kernelspec": {
      "name": "python3",
      "display_name": "Python 3"
    },
    "language_info": {
      "name": "python"
    }
  },
  "cells": [
    {
      "cell_type": "markdown",
      "metadata": {
        "id": "view-in-github",
        "colab_type": "text"
      },
      "source": [
        "<a href=\"https://colab.research.google.com/github/jun-hyeok/AAI3006-01_Machine-Learning_2021Spring/blob/main/ML_Assignment_06.ipynb\" target=\"_parent\"><img src=\"https://colab.research.google.com/assets/colab-badge.svg\" alt=\"Open In Colab\"/></a>"
      ]
    },
    {
      "cell_type": "markdown",
      "metadata": {
        "id": "HbIccBeOM-2_"
      },
      "source": [
        "# ML - Assignment 6\n",
        "2021.05.16\n",
        "박준혁"
      ]
    },
    {
      "cell_type": "code",
      "metadata": {
        "id": "UOFIvtxgi7b7",
        "colab": {
          "base_uri": "https://localhost:8080/"
        },
        "outputId": "be0b8234-b0d9-46db-87b7-2ebcd69ea4c0"
      },
      "source": [
        "import numpy as np\n",
        "import pandas as pd\n",
        "from google.colab import drive\n",
        "drive.mount(\"/content/drive\")"
      ],
      "execution_count": 1,
      "outputs": [
        {
          "output_type": "stream",
          "text": [
            "Drive already mounted at /content/drive; to attempt to forcibly remount, call drive.mount(\"/content/drive\", force_remount=True).\n"
          ],
          "name": "stdout"
        }
      ]
    },
    {
      "cell_type": "markdown",
      "metadata": {
        "id": "WhH2B5IjVk4p"
      },
      "source": [
        "사용한 data set은 [Medical Cost Personal Datasets](https://www.kaggle.com/mirichoi0218/insurance)이다.\n"
      ]
    },
    {
      "cell_type": "code",
      "metadata": {
        "id": "BapGUB7PjAXj",
        "colab": {
          "base_uri": "https://localhost:8080/"
        },
        "outputId": "76a17e66-3574-480a-db59-e63ff0399f2e"
      },
      "source": [
        "%cd \"/content/drive/MyDrive/Colab Notebooks/AAI3006-01_Machine-Learning_2021Spring/\"\n",
        "default_dir = \"/content/drive/MyDrive/Colab Notebooks/AAI3006-01_Machine-Learning_2021Spring/\"\n",
        "# default_dir = \"\"\n",
        "file = \"insurance.csv\"\n",
        "df = pd.read_csv(default_dir+file)\n",
        "df = df.dropna()"
      ],
      "execution_count": 2,
      "outputs": [
        {
          "output_type": "stream",
          "text": [
            "/content/drive/MyDrive/Colab Notebooks/AAI3006-01_Machine-Learning_2021Spring\n"
          ],
          "name": "stdout"
        }
      ]
    },
    {
      "cell_type": "code",
      "metadata": {
        "colab": {
          "base_uri": "https://localhost:8080/",
          "height": 204
        },
        "id": "-sMdiv-Uzu8O",
        "outputId": "80e22300-e1ca-4c2e-8ae2-59e39beb7025"
      },
      "source": [
        "df.tail()"
      ],
      "execution_count": 3,
      "outputs": [
        {
          "output_type": "execute_result",
          "data": {
            "text/html": [
              "<div>\n",
              "<style scoped>\n",
              "    .dataframe tbody tr th:only-of-type {\n",
              "        vertical-align: middle;\n",
              "    }\n",
              "\n",
              "    .dataframe tbody tr th {\n",
              "        vertical-align: top;\n",
              "    }\n",
              "\n",
              "    .dataframe thead th {\n",
              "        text-align: right;\n",
              "    }\n",
              "</style>\n",
              "<table border=\"1\" class=\"dataframe\">\n",
              "  <thead>\n",
              "    <tr style=\"text-align: right;\">\n",
              "      <th></th>\n",
              "      <th>age</th>\n",
              "      <th>sex</th>\n",
              "      <th>bmi</th>\n",
              "      <th>children</th>\n",
              "      <th>smoker</th>\n",
              "      <th>region</th>\n",
              "      <th>charges</th>\n",
              "    </tr>\n",
              "  </thead>\n",
              "  <tbody>\n",
              "    <tr>\n",
              "      <th>1333</th>\n",
              "      <td>50</td>\n",
              "      <td>male</td>\n",
              "      <td>30.97</td>\n",
              "      <td>3</td>\n",
              "      <td>no</td>\n",
              "      <td>northwest</td>\n",
              "      <td>10600.5483</td>\n",
              "    </tr>\n",
              "    <tr>\n",
              "      <th>1334</th>\n",
              "      <td>18</td>\n",
              "      <td>female</td>\n",
              "      <td>31.92</td>\n",
              "      <td>0</td>\n",
              "      <td>no</td>\n",
              "      <td>northeast</td>\n",
              "      <td>2205.9808</td>\n",
              "    </tr>\n",
              "    <tr>\n",
              "      <th>1335</th>\n",
              "      <td>18</td>\n",
              "      <td>female</td>\n",
              "      <td>36.85</td>\n",
              "      <td>0</td>\n",
              "      <td>no</td>\n",
              "      <td>southeast</td>\n",
              "      <td>1629.8335</td>\n",
              "    </tr>\n",
              "    <tr>\n",
              "      <th>1336</th>\n",
              "      <td>21</td>\n",
              "      <td>female</td>\n",
              "      <td>25.80</td>\n",
              "      <td>0</td>\n",
              "      <td>no</td>\n",
              "      <td>southwest</td>\n",
              "      <td>2007.9450</td>\n",
              "    </tr>\n",
              "    <tr>\n",
              "      <th>1337</th>\n",
              "      <td>61</td>\n",
              "      <td>female</td>\n",
              "      <td>29.07</td>\n",
              "      <td>0</td>\n",
              "      <td>yes</td>\n",
              "      <td>northwest</td>\n",
              "      <td>29141.3603</td>\n",
              "    </tr>\n",
              "  </tbody>\n",
              "</table>\n",
              "</div>"
            ],
            "text/plain": [
              "      age     sex    bmi  children smoker     region     charges\n",
              "1333   50    male  30.97         3     no  northwest  10600.5483\n",
              "1334   18  female  31.92         0     no  northeast   2205.9808\n",
              "1335   18  female  36.85         0     no  southeast   1629.8335\n",
              "1336   21  female  25.80         0     no  southwest   2007.9450\n",
              "1337   61  female  29.07         0    yes  northwest  29141.3603"
            ]
          },
          "metadata": {
            "tags": []
          },
          "execution_count": 3
        }
      ]
    },
    {
      "cell_type": "markdown",
      "metadata": {
        "id": "0NyV7PpAEvCk"
      },
      "source": [
        "## df columns (features and label)\n",
        "\n",
        "### features\n",
        "\n",
        "`age`: age of primary beneficiary\n",
        "\n",
        "`sex`: insurance contractor gender, female, male\n",
        "\n",
        "`bmi`: Body mass index, providing an understanding of body, weights that are relatively high or low relative to height,\n",
        "objective index of body weight ($kg / m ^ 2$) using the ratio of height to weight, ideally $18.5$ to $24.9$\n",
        "\n",
        "`children`: Number of children covered by health insurance / Number of dependents\n",
        "\n",
        "`smoker`: Smoking\n",
        "\n",
        "`region`: the beneficiary's residential area in the US, northeast, southeast, southwest, northwest.\n",
        "\n",
        "### label\n",
        "\n",
        "`charges`: Individual medical costs billed by health insurance"
      ]
    },
    {
      "cell_type": "markdown",
      "metadata": {
        "id": "tKuVUvuVRaTk"
      },
      "source": [
        "df column이 가진 dtype을 확인한다.\n",
        "\n",
        "\n",
        "```\n",
        "df.dtypes.unique()\n",
        "```\n",
        "\n"
      ]
    },
    {
      "cell_type": "code",
      "metadata": {
        "colab": {
          "base_uri": "https://localhost:8080/"
        },
        "id": "s53exiGuAOI3",
        "outputId": "14378938-4edd-4b76-d56b-beacabd05e49"
      },
      "source": [
        "print(\"data types of columns : {}\".format(df.dtypes.unique()))"
      ],
      "execution_count": 4,
      "outputs": [
        {
          "output_type": "stream",
          "text": [
            "data types of columns : [dtype('int64') dtype('O') dtype('float64')]\n"
          ],
          "name": "stdout"
        }
      ]
    },
    {
      "cell_type": "markdown",
      "metadata": {
        "id": "Ey4mTIaHSigB"
      },
      "source": [
        "dtype이 object인 column name을 확인한다.\n",
        "\n",
        "```\n",
        "df.columns[df.dtypes==object]\n",
        "```\n",
        "\n"
      ]
    },
    {
      "cell_type": "code",
      "metadata": {
        "colab": {
          "base_uri": "https://localhost:8080/"
        },
        "id": "5FJAaZpmC6SY",
        "outputId": "0903e02a-b72a-4ace-b086-a594777e8a12"
      },
      "source": [
        "objs = df.columns[df.dtypes==object]\n",
        "print(\"object type columns : {}\".format(objs))"
      ],
      "execution_count": 5,
      "outputs": [
        {
          "output_type": "stream",
          "text": [
            "object type columns : Index(['sex', 'smoker', 'region'], dtype='object')\n"
          ],
          "name": "stdout"
        }
      ]
    },
    {
      "cell_type": "code",
      "metadata": {
        "colab": {
          "base_uri": "https://localhost:8080/"
        },
        "id": "4grYvje43A6T",
        "outputId": "7b5bd3a4-682e-4a89-bfa6-60dfa3394d1a"
      },
      "source": [
        "print(df[\"sex\"].unique())\n",
        "print(df[\"smoker\"].unique())\n",
        "print(df[\"region\"].unique())"
      ],
      "execution_count": 6,
      "outputs": [
        {
          "output_type": "stream",
          "text": [
            "['female' 'male']\n",
            "['yes' 'no']\n",
            "['southwest' 'southeast' 'northwest' 'northeast']\n"
          ],
          "name": "stdout"
        }
      ]
    },
    {
      "cell_type": "markdown",
      "metadata": {
        "id": "Za1kuUZtLWDq"
      },
      "source": [
        "linear regression에 이용할 numeric data를 위해 `sklearn.preprocessing.OridinalEncoder`를 이용해 object type data를 numeric type으로 바꾸어 준다."
      ]
    },
    {
      "cell_type": "code",
      "metadata": {
        "colab": {
          "base_uri": "https://localhost:8080/",
          "height": 470
        },
        "id": "5DFB_uG-6c-5",
        "outputId": "a28ae108-aa56-417d-aa49-4951b2184ab1"
      },
      "source": [
        "from sklearn.preprocessing import OrdinalEncoder\n",
        "enc = OrdinalEncoder()\n",
        "sex = df[\"sex\"].to_numpy().reshape(-1,1)\n",
        "smoker = df[\"smoker\"].to_numpy().reshape(-1,1)\n",
        "region = df[\"region\"].to_numpy().reshape(-1,1)\n",
        "df_ = df.copy()\n",
        "df_[\"sex\"]= enc.fit_transform(sex).reshape(-1)\n",
        "print(dict((cat, i) for i, cat in enumerate(enc.categories_[0])))\n",
        "df_[\"smoker\"]= enc.fit_transform(smoker).reshape(-1)\n",
        "print(dict((cat, i) for i, cat in enumerate(enc.categories_[0])))\n",
        "df_[\"region\"]= enc.fit_transform(region).reshape(-1)\n",
        "print(dict((cat, i) for i, cat in enumerate(enc.categories_[0])))\n",
        "df_"
      ],
      "execution_count": 7,
      "outputs": [
        {
          "output_type": "stream",
          "text": [
            "{'female': 0, 'male': 1}\n",
            "{'no': 0, 'yes': 1}\n",
            "{'northeast': 0, 'northwest': 1, 'southeast': 2, 'southwest': 3}\n"
          ],
          "name": "stdout"
        },
        {
          "output_type": "execute_result",
          "data": {
            "text/html": [
              "<div>\n",
              "<style scoped>\n",
              "    .dataframe tbody tr th:only-of-type {\n",
              "        vertical-align: middle;\n",
              "    }\n",
              "\n",
              "    .dataframe tbody tr th {\n",
              "        vertical-align: top;\n",
              "    }\n",
              "\n",
              "    .dataframe thead th {\n",
              "        text-align: right;\n",
              "    }\n",
              "</style>\n",
              "<table border=\"1\" class=\"dataframe\">\n",
              "  <thead>\n",
              "    <tr style=\"text-align: right;\">\n",
              "      <th></th>\n",
              "      <th>age</th>\n",
              "      <th>sex</th>\n",
              "      <th>bmi</th>\n",
              "      <th>children</th>\n",
              "      <th>smoker</th>\n",
              "      <th>region</th>\n",
              "      <th>charges</th>\n",
              "    </tr>\n",
              "  </thead>\n",
              "  <tbody>\n",
              "    <tr>\n",
              "      <th>0</th>\n",
              "      <td>19</td>\n",
              "      <td>0.0</td>\n",
              "      <td>27.900</td>\n",
              "      <td>0</td>\n",
              "      <td>1.0</td>\n",
              "      <td>3.0</td>\n",
              "      <td>16884.92400</td>\n",
              "    </tr>\n",
              "    <tr>\n",
              "      <th>1</th>\n",
              "      <td>18</td>\n",
              "      <td>1.0</td>\n",
              "      <td>33.770</td>\n",
              "      <td>1</td>\n",
              "      <td>0.0</td>\n",
              "      <td>2.0</td>\n",
              "      <td>1725.55230</td>\n",
              "    </tr>\n",
              "    <tr>\n",
              "      <th>2</th>\n",
              "      <td>28</td>\n",
              "      <td>1.0</td>\n",
              "      <td>33.000</td>\n",
              "      <td>3</td>\n",
              "      <td>0.0</td>\n",
              "      <td>2.0</td>\n",
              "      <td>4449.46200</td>\n",
              "    </tr>\n",
              "    <tr>\n",
              "      <th>3</th>\n",
              "      <td>33</td>\n",
              "      <td>1.0</td>\n",
              "      <td>22.705</td>\n",
              "      <td>0</td>\n",
              "      <td>0.0</td>\n",
              "      <td>1.0</td>\n",
              "      <td>21984.47061</td>\n",
              "    </tr>\n",
              "    <tr>\n",
              "      <th>4</th>\n",
              "      <td>32</td>\n",
              "      <td>1.0</td>\n",
              "      <td>28.880</td>\n",
              "      <td>0</td>\n",
              "      <td>0.0</td>\n",
              "      <td>1.0</td>\n",
              "      <td>3866.85520</td>\n",
              "    </tr>\n",
              "    <tr>\n",
              "      <th>...</th>\n",
              "      <td>...</td>\n",
              "      <td>...</td>\n",
              "      <td>...</td>\n",
              "      <td>...</td>\n",
              "      <td>...</td>\n",
              "      <td>...</td>\n",
              "      <td>...</td>\n",
              "    </tr>\n",
              "    <tr>\n",
              "      <th>1333</th>\n",
              "      <td>50</td>\n",
              "      <td>1.0</td>\n",
              "      <td>30.970</td>\n",
              "      <td>3</td>\n",
              "      <td>0.0</td>\n",
              "      <td>1.0</td>\n",
              "      <td>10600.54830</td>\n",
              "    </tr>\n",
              "    <tr>\n",
              "      <th>1334</th>\n",
              "      <td>18</td>\n",
              "      <td>0.0</td>\n",
              "      <td>31.920</td>\n",
              "      <td>0</td>\n",
              "      <td>0.0</td>\n",
              "      <td>0.0</td>\n",
              "      <td>2205.98080</td>\n",
              "    </tr>\n",
              "    <tr>\n",
              "      <th>1335</th>\n",
              "      <td>18</td>\n",
              "      <td>0.0</td>\n",
              "      <td>36.850</td>\n",
              "      <td>0</td>\n",
              "      <td>0.0</td>\n",
              "      <td>2.0</td>\n",
              "      <td>1629.83350</td>\n",
              "    </tr>\n",
              "    <tr>\n",
              "      <th>1336</th>\n",
              "      <td>21</td>\n",
              "      <td>0.0</td>\n",
              "      <td>25.800</td>\n",
              "      <td>0</td>\n",
              "      <td>0.0</td>\n",
              "      <td>3.0</td>\n",
              "      <td>2007.94500</td>\n",
              "    </tr>\n",
              "    <tr>\n",
              "      <th>1337</th>\n",
              "      <td>61</td>\n",
              "      <td>0.0</td>\n",
              "      <td>29.070</td>\n",
              "      <td>0</td>\n",
              "      <td>1.0</td>\n",
              "      <td>1.0</td>\n",
              "      <td>29141.36030</td>\n",
              "    </tr>\n",
              "  </tbody>\n",
              "</table>\n",
              "<p>1338 rows × 7 columns</p>\n",
              "</div>"
            ],
            "text/plain": [
              "      age  sex     bmi  children  smoker  region      charges\n",
              "0      19  0.0  27.900         0     1.0     3.0  16884.92400\n",
              "1      18  1.0  33.770         1     0.0     2.0   1725.55230\n",
              "2      28  1.0  33.000         3     0.0     2.0   4449.46200\n",
              "3      33  1.0  22.705         0     0.0     1.0  21984.47061\n",
              "4      32  1.0  28.880         0     0.0     1.0   3866.85520\n",
              "...   ...  ...     ...       ...     ...     ...          ...\n",
              "1333   50  1.0  30.970         3     0.0     1.0  10600.54830\n",
              "1334   18  0.0  31.920         0     0.0     0.0   2205.98080\n",
              "1335   18  0.0  36.850         0     0.0     2.0   1629.83350\n",
              "1336   21  0.0  25.800         0     0.0     3.0   2007.94500\n",
              "1337   61  0.0  29.070         0     1.0     1.0  29141.36030\n",
              "\n",
              "[1338 rows x 7 columns]"
            ]
          },
          "metadata": {
            "tags": []
          },
          "execution_count": 7
        }
      ]
    },
    {
      "cell_type": "markdown",
      "metadata": {
        "id": "l3S-GPGQURzd"
      },
      "source": [
        "`df_[\"charge\"]`는 label `y`로 나머지는 feature `X`로 한다.\n",
        "\n",
        "이후 train set과 test set으로 나눈다."
      ]
    },
    {
      "cell_type": "code",
      "metadata": {
        "id": "Hl0Nf-LO_zp8"
      },
      "source": [
        "from sklearn.model_selection import train_test_split\n",
        "\n",
        "X = df_.drop(\"charges\", axis=1).values\n",
        "y = df_[\"charges\"].values\n",
        "X_train, X_test, y_train, y_test = train_test_split(X, y, test_size=0.2, random_state=42)"
      ],
      "execution_count": 8,
      "outputs": []
    },
    {
      "cell_type": "markdown",
      "metadata": {
        "id": "5PgzViA3MdCd"
      },
      "source": [
        "`sklearn.linear_model.LinearRegression`을 이용하여 model을 학습하고, 검증한다.\n",
        "\n",
        "78.33%의 정확도를 보인다."
      ]
    },
    {
      "cell_type": "code",
      "metadata": {
        "colab": {
          "base_uri": "https://localhost:8080/"
        },
        "id": "D-5c_boB_wYJ",
        "outputId": "16172283-e9a4-40a6-e71f-2b57b02dd85b"
      },
      "source": [
        "from sklearn.linear_model import LinearRegression\n",
        "reg = LinearRegression()\n",
        "reg.fit(X_train, y_train)\n",
        "reg.score(X_test, y_test)"
      ],
      "execution_count": 9,
      "outputs": [
        {
          "output_type": "execute_result",
          "data": {
            "text/plain": [
              "0.7833463107364539"
            ]
          },
          "metadata": {
            "tags": []
          },
          "execution_count": 9
        }
      ]
    },
    {
      "cell_type": "markdown",
      "metadata": {
        "id": "uNcsacagM4pQ"
      },
      "source": [
        "## Reference\n",
        "\n",
        "[sklearn.preprocessing.OrdinalEncoder](https://scikit-learn.org/stable/modules/generated/sklearn.preprocessing.OrdinalEncoder.html)\n",
        "\n",
        "[sklearn.linear_model.LinearRegression](https://scikit-learn.org/stable/modules/generated/sklearn.linear_model.LinearRegression.html)"
      ]
    }
  ]
}