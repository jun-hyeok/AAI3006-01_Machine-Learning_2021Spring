{
  "nbformat": 4,
  "nbformat_minor": 0,
  "metadata": {
    "colab": {
      "name": "ML-Assignment-05.ipynb",
      "provenance": [],
      "collapsed_sections": [],
      "include_colab_link": true
    },
    "kernelspec": {
      "name": "python3",
      "display_name": "Python 3"
    },
    "language_info": {
      "name": "python"
    }
  },
  "cells": [
    {
      "cell_type": "markdown",
      "metadata": {
        "id": "view-in-github",
        "colab_type": "text"
      },
      "source": [
        "<a href=\"https://colab.research.google.com/github/jun-hyeok/AAI3006-01_Machine-Learning_2021Spring/blob/main/ML_Assignment_05.ipynb\" target=\"_parent\"><img src=\"https://colab.research.google.com/assets/colab-badge.svg\" alt=\"Open In Colab\"/></a>"
      ]
    },
    {
      "cell_type": "markdown",
      "metadata": {
        "id": "HbIccBeOM-2_"
      },
      "source": [
        "# ML - Assignment 5\n",
        "2021.05.09\n",
        "박준혁"
      ]
    },
    {
      "cell_type": "code",
      "metadata": {
        "colab": {
          "base_uri": "https://localhost:8080/"
        },
        "id": "UOFIvtxgi7b7",
        "outputId": "96bd251c-a9d0-41c8-c14c-11f6e2ab156f"
      },
      "source": [
        "import timeit\n",
        "import numpy as np\n",
        "import pandas as pd\n",
        "import pandas_profiling as pp\n",
        "from sklearn.preprocessing import LabelEncoder\n",
        "from sklearn.neural_network import MLPClassifier\n",
        "from sklearn.model_selection import GridSearchCV\n",
        "from sklearn.model_selection import train_test_split\n",
        "from sklearn.metrics import classification_report\n",
        "from google.colab import drive\n",
        "drive.mount('/content/drive')"
      ],
      "execution_count": 1,
      "outputs": [
        {
          "output_type": "stream",
          "text": [
            "Drive already mounted at /content/drive; to attempt to forcibly remount, call drive.mount(\"/content/drive\", force_remount=True).\n"
          ],
          "name": "stdout"
        }
      ]
    },
    {
      "cell_type": "markdown",
      "metadata": {
        "id": "WhH2B5IjVk4p"
      },
      "source": [
        "사용한 data set은 [Mice Protein Expression](https://www.kaggle.com/ruslankl/mice-protein-expression)이다.\n",
        "\n",
        "Google Colab에서 drive mount하여 data를 load하니 local에서 실행하는 경우 아래 코드를 변경해주어야 한다."
      ]
    },
    {
      "cell_type": "code",
      "metadata": {
        "id": "BapGUB7PjAXj"
      },
      "source": [
        "default_dir = \"/content/drive/MyDrive/Colab Notebooks/\"\n",
        "# default_dir = \"\"\n",
        "file = \"Data_Cortex_Nuclear.csv\"\n",
        "df = pd.read_csv(default_dir+file)\n",
        "df = df.dropna()"
      ],
      "execution_count": 2,
      "outputs": []
    },
    {
      "cell_type": "code",
      "metadata": {
        "colab": {
          "base_uri": "https://localhost:8080/",
          "height": 338
        },
        "id": "-sMdiv-Uzu8O",
        "outputId": "70ddac29-e27e-4baa-e0c8-ca0ba3469e37"
      },
      "source": [
        "df.tail()"
      ],
      "execution_count": 3,
      "outputs": [
        {
          "output_type": "execute_result",
          "data": {
            "text/html": [
              "<div>\n",
              "<style scoped>\n",
              "    .dataframe tbody tr th:only-of-type {\n",
              "        vertical-align: middle;\n",
              "    }\n",
              "\n",
              "    .dataframe tbody tr th {\n",
              "        vertical-align: top;\n",
              "    }\n",
              "\n",
              "    .dataframe thead th {\n",
              "        text-align: right;\n",
              "    }\n",
              "</style>\n",
              "<table border=\"1\" class=\"dataframe\">\n",
              "  <thead>\n",
              "    <tr style=\"text-align: right;\">\n",
              "      <th></th>\n",
              "      <th>MouseID</th>\n",
              "      <th>DYRK1A_N</th>\n",
              "      <th>ITSN1_N</th>\n",
              "      <th>BDNF_N</th>\n",
              "      <th>NR1_N</th>\n",
              "      <th>NR2A_N</th>\n",
              "      <th>pAKT_N</th>\n",
              "      <th>pBRAF_N</th>\n",
              "      <th>pCAMKII_N</th>\n",
              "      <th>pCREB_N</th>\n",
              "      <th>pELK_N</th>\n",
              "      <th>pERK_N</th>\n",
              "      <th>pJNK_N</th>\n",
              "      <th>PKCA_N</th>\n",
              "      <th>pMEK_N</th>\n",
              "      <th>pNR1_N</th>\n",
              "      <th>pNR2A_N</th>\n",
              "      <th>pNR2B_N</th>\n",
              "      <th>pPKCAB_N</th>\n",
              "      <th>pRSK_N</th>\n",
              "      <th>AKT_N</th>\n",
              "      <th>BRAF_N</th>\n",
              "      <th>CAMKII_N</th>\n",
              "      <th>CREB_N</th>\n",
              "      <th>ELK_N</th>\n",
              "      <th>ERK_N</th>\n",
              "      <th>GSK3B_N</th>\n",
              "      <th>JNK_N</th>\n",
              "      <th>MEK_N</th>\n",
              "      <th>TRKA_N</th>\n",
              "      <th>RSK_N</th>\n",
              "      <th>APP_N</th>\n",
              "      <th>Bcatenin_N</th>\n",
              "      <th>SOD1_N</th>\n",
              "      <th>MTOR_N</th>\n",
              "      <th>P38_N</th>\n",
              "      <th>pMTOR_N</th>\n",
              "      <th>DSCR1_N</th>\n",
              "      <th>AMPKA_N</th>\n",
              "      <th>NR2B_N</th>\n",
              "      <th>...</th>\n",
              "      <th>TIAM1_N</th>\n",
              "      <th>pP70S6_N</th>\n",
              "      <th>NUMB_N</th>\n",
              "      <th>P70S6_N</th>\n",
              "      <th>pGSK3B_N</th>\n",
              "      <th>pPKCG_N</th>\n",
              "      <th>CDK5_N</th>\n",
              "      <th>S6_N</th>\n",
              "      <th>ADARB1_N</th>\n",
              "      <th>AcetylH3K9_N</th>\n",
              "      <th>RRP1_N</th>\n",
              "      <th>BAX_N</th>\n",
              "      <th>ARC_N</th>\n",
              "      <th>ERBB4_N</th>\n",
              "      <th>nNOS_N</th>\n",
              "      <th>Tau_N</th>\n",
              "      <th>GFAP_N</th>\n",
              "      <th>GluR3_N</th>\n",
              "      <th>GluR4_N</th>\n",
              "      <th>IL1B_N</th>\n",
              "      <th>P3525_N</th>\n",
              "      <th>pCASP9_N</th>\n",
              "      <th>PSD95_N</th>\n",
              "      <th>SNCA_N</th>\n",
              "      <th>Ubiquitin_N</th>\n",
              "      <th>pGSK3B_Tyr216_N</th>\n",
              "      <th>SHH_N</th>\n",
              "      <th>BAD_N</th>\n",
              "      <th>BCL2_N</th>\n",
              "      <th>pS6_N</th>\n",
              "      <th>pCFOS_N</th>\n",
              "      <th>SYP_N</th>\n",
              "      <th>H3AcK18_N</th>\n",
              "      <th>EGR1_N</th>\n",
              "      <th>H3MeK4_N</th>\n",
              "      <th>CaNA_N</th>\n",
              "      <th>Genotype</th>\n",
              "      <th>Treatment</th>\n",
              "      <th>Behavior</th>\n",
              "      <th>class</th>\n",
              "    </tr>\n",
              "  </thead>\n",
              "  <tbody>\n",
              "    <tr>\n",
              "      <th>1045</th>\n",
              "      <td>3525_11</td>\n",
              "      <td>0.382149</td>\n",
              "      <td>0.595792</td>\n",
              "      <td>0.399101</td>\n",
              "      <td>2.527574</td>\n",
              "      <td>4.629493</td>\n",
              "      <td>0.317810</td>\n",
              "      <td>0.213235</td>\n",
              "      <td>6.219567</td>\n",
              "      <td>0.232639</td>\n",
              "      <td>1.495507</td>\n",
              "      <td>0.436070</td>\n",
              "      <td>0.393382</td>\n",
              "      <td>0.437704</td>\n",
              "      <td>0.365605</td>\n",
              "      <td>0.868464</td>\n",
              "      <td>0.741830</td>\n",
              "      <td>1.758578</td>\n",
              "      <td>2.341503</td>\n",
              "      <td>0.537786</td>\n",
              "      <td>0.775327</td>\n",
              "      <td>0.369281</td>\n",
              "      <td>0.442810</td>\n",
              "      <td>0.224877</td>\n",
              "      <td>1.113358</td>\n",
              "      <td>2.699755</td>\n",
              "      <td>1.304943</td>\n",
              "      <td>0.289216</td>\n",
              "      <td>0.335989</td>\n",
              "      <td>0.851103</td>\n",
              "      <td>0.195057</td>\n",
              "      <td>0.522876</td>\n",
              "      <td>2.335989</td>\n",
              "      <td>0.521242</td>\n",
              "      <td>0.593342</td>\n",
              "      <td>0.550041</td>\n",
              "      <td>0.950776</td>\n",
              "      <td>0.761234</td>\n",
              "      <td>0.428922</td>\n",
              "      <td>0.702410</td>\n",
              "      <td>...</td>\n",
              "      <td>0.543301</td>\n",
              "      <td>0.733252</td>\n",
              "      <td>0.157150</td>\n",
              "      <td>0.821195</td>\n",
              "      <td>0.173361</td>\n",
              "      <td>2.758650</td>\n",
              "      <td>0.296032</td>\n",
              "      <td>0.380837</td>\n",
              "      <td>1.471086</td>\n",
              "      <td>0.203968</td>\n",
              "      <td>0.176143</td>\n",
              "      <td>0.193927</td>\n",
              "      <td>0.132591</td>\n",
              "      <td>0.179531</td>\n",
              "      <td>0.199371</td>\n",
              "      <td>0.211953</td>\n",
              "      <td>0.131019</td>\n",
              "      <td>0.179410</td>\n",
              "      <td>0.126301</td>\n",
              "      <td>0.491774</td>\n",
              "      <td>0.327486</td>\n",
              "      <td>1.491653</td>\n",
              "      <td>2.310670</td>\n",
              "      <td>0.170215</td>\n",
              "      <td>1.553472</td>\n",
              "      <td>0.917251</td>\n",
              "      <td>0.245705</td>\n",
              "      <td>0.184612</td>\n",
              "      <td>0.133317</td>\n",
              "      <td>0.132591</td>\n",
              "      <td>0.122308</td>\n",
              "      <td>0.507017</td>\n",
              "      <td>0.172393</td>\n",
              "      <td>0.200097</td>\n",
              "      <td>0.221994</td>\n",
              "      <td>1.141423</td>\n",
              "      <td>Ts65Dn</td>\n",
              "      <td>Saline</td>\n",
              "      <td>S/C</td>\n",
              "      <td>t-SC-s</td>\n",
              "    </tr>\n",
              "    <tr>\n",
              "      <th>1046</th>\n",
              "      <td>3525_12</td>\n",
              "      <td>0.387947</td>\n",
              "      <td>0.586510</td>\n",
              "      <td>0.431650</td>\n",
              "      <td>2.527041</td>\n",
              "      <td>4.781082</td>\n",
              "      <td>0.316903</td>\n",
              "      <td>0.222111</td>\n",
              "      <td>6.307723</td>\n",
              "      <td>0.239074</td>\n",
              "      <td>1.594492</td>\n",
              "      <td>0.445819</td>\n",
              "      <td>0.388745</td>\n",
              "      <td>0.440631</td>\n",
              "      <td>0.364997</td>\n",
              "      <td>0.885652</td>\n",
              "      <td>0.763720</td>\n",
              "      <td>1.757334</td>\n",
              "      <td>2.434444</td>\n",
              "      <td>0.558970</td>\n",
              "      <td>0.785472</td>\n",
              "      <td>0.364398</td>\n",
              "      <td>0.449212</td>\n",
              "      <td>0.239473</td>\n",
              "      <td>1.137697</td>\n",
              "      <td>2.691080</td>\n",
              "      <td>1.296747</td>\n",
              "      <td>0.288166</td>\n",
              "      <td>0.340451</td>\n",
              "      <td>0.842746</td>\n",
              "      <td>0.215127</td>\n",
              "      <td>0.526442</td>\n",
              "      <td>2.300738</td>\n",
              "      <td>0.533826</td>\n",
              "      <td>0.613450</td>\n",
              "      <td>0.560567</td>\n",
              "      <td>0.963680</td>\n",
              "      <td>0.786869</td>\n",
              "      <td>0.464179</td>\n",
              "      <td>0.714827</td>\n",
              "      <td>...</td>\n",
              "      <td>0.588106</td>\n",
              "      <td>0.770505</td>\n",
              "      <td>0.160860</td>\n",
              "      <td>0.880706</td>\n",
              "      <td>0.181523</td>\n",
              "      <td>2.767660</td>\n",
              "      <td>0.304421</td>\n",
              "      <td>0.375300</td>\n",
              "      <td>1.680082</td>\n",
              "      <td>0.200144</td>\n",
              "      <td>0.194738</td>\n",
              "      <td>0.209034</td>\n",
              "      <td>0.132869</td>\n",
              "      <td>0.165545</td>\n",
              "      <td>0.195459</td>\n",
              "      <td>0.186449</td>\n",
              "      <td>0.125420</td>\n",
              "      <td>0.166026</td>\n",
              "      <td>0.135632</td>\n",
              "      <td>0.456631</td>\n",
              "      <td>0.317756</td>\n",
              "      <td>1.438011</td>\n",
              "      <td>2.330010</td>\n",
              "      <td>0.168669</td>\n",
              "      <td>1.519222</td>\n",
              "      <td>0.900529</td>\n",
              "      <td>0.261893</td>\n",
              "      <td>0.188972</td>\n",
              "      <td>0.153772</td>\n",
              "      <td>0.132869</td>\n",
              "      <td>0.121216</td>\n",
              "      <td>0.492432</td>\n",
              "      <td>0.177319</td>\n",
              "      <td>0.207593</td>\n",
              "      <td>0.235223</td>\n",
              "      <td>1.104757</td>\n",
              "      <td>Ts65Dn</td>\n",
              "      <td>Saline</td>\n",
              "      <td>S/C</td>\n",
              "      <td>t-SC-s</td>\n",
              "    </tr>\n",
              "    <tr>\n",
              "      <th>1047</th>\n",
              "      <td>3525_13</td>\n",
              "      <td>0.343695</td>\n",
              "      <td>0.562547</td>\n",
              "      <td>0.361243</td>\n",
              "      <td>2.412885</td>\n",
              "      <td>3.949361</td>\n",
              "      <td>0.330158</td>\n",
              "      <td>0.225620</td>\n",
              "      <td>6.060165</td>\n",
              "      <td>0.254951</td>\n",
              "      <td>1.625219</td>\n",
              "      <td>0.462773</td>\n",
              "      <td>0.404111</td>\n",
              "      <td>0.432941</td>\n",
              "      <td>0.379794</td>\n",
              "      <td>0.832289</td>\n",
              "      <td>0.695162</td>\n",
              "      <td>1.691151</td>\n",
              "      <td>2.257959</td>\n",
              "      <td>0.546503</td>\n",
              "      <td>0.770619</td>\n",
              "      <td>0.384307</td>\n",
              "      <td>0.473302</td>\n",
              "      <td>0.233643</td>\n",
              "      <td>0.998747</td>\n",
              "      <td>2.575583</td>\n",
              "      <td>1.292053</td>\n",
              "      <td>0.299574</td>\n",
              "      <td>0.334921</td>\n",
              "      <td>0.830534</td>\n",
              "      <td>0.212083</td>\n",
              "      <td>0.501128</td>\n",
              "      <td>2.189020</td>\n",
              "      <td>0.527701</td>\n",
              "      <td>0.532715</td>\n",
              "      <td>0.505139</td>\n",
              "      <td>0.865630</td>\n",
              "      <td>0.737278</td>\n",
              "      <td>0.418150</td>\n",
              "      <td>0.690649</td>\n",
              "      <td>...</td>\n",
              "      <td>0.473302</td>\n",
              "      <td>0.729506</td>\n",
              "      <td>0.136392</td>\n",
              "      <td>0.761314</td>\n",
              "      <td>0.164676</td>\n",
              "      <td>2.798554</td>\n",
              "      <td>0.286769</td>\n",
              "      <td>0.365493</td>\n",
              "      <td>1.184789</td>\n",
              "      <td>0.198303</td>\n",
              "      <td>0.179761</td>\n",
              "      <td>0.173162</td>\n",
              "      <td>0.129793</td>\n",
              "      <td>0.155877</td>\n",
              "      <td>0.192803</td>\n",
              "      <td>0.184004</td>\n",
              "      <td>0.108108</td>\n",
              "      <td>0.164362</td>\n",
              "      <td>0.128221</td>\n",
              "      <td>0.486801</td>\n",
              "      <td>0.331081</td>\n",
              "      <td>1.450031</td>\n",
              "      <td>2.265556</td>\n",
              "      <td>0.170805</td>\n",
              "      <td>1.470930</td>\n",
              "      <td>0.957888</td>\n",
              "      <td>0.232715</td>\n",
              "      <td>0.189189</td>\n",
              "      <td>0.146135</td>\n",
              "      <td>0.129793</td>\n",
              "      <td>0.121936</td>\n",
              "      <td>0.490258</td>\n",
              "      <td>0.169076</td>\n",
              "      <td>0.182590</td>\n",
              "      <td>0.243715</td>\n",
              "      <td>1.104494</td>\n",
              "      <td>Ts65Dn</td>\n",
              "      <td>Saline</td>\n",
              "      <td>S/C</td>\n",
              "      <td>t-SC-s</td>\n",
              "    </tr>\n",
              "    <tr>\n",
              "      <th>1048</th>\n",
              "      <td>3525_14</td>\n",
              "      <td>0.346594</td>\n",
              "      <td>0.551467</td>\n",
              "      <td>0.390353</td>\n",
              "      <td>2.445052</td>\n",
              "      <td>4.236201</td>\n",
              "      <td>0.343610</td>\n",
              "      <td>0.229239</td>\n",
              "      <td>6.023371</td>\n",
              "      <td>0.240676</td>\n",
              "      <td>1.674043</td>\n",
              "      <td>0.419692</td>\n",
              "      <td>0.397563</td>\n",
              "      <td>0.426902</td>\n",
              "      <td>0.393585</td>\n",
              "      <td>0.860020</td>\n",
              "      <td>0.723272</td>\n",
              "      <td>1.715316</td>\n",
              "      <td>2.393337</td>\n",
              "      <td>0.604426</td>\n",
              "      <td>0.807310</td>\n",
              "      <td>0.430632</td>\n",
              "      <td>0.489806</td>\n",
              "      <td>0.244654</td>\n",
              "      <td>1.039533</td>\n",
              "      <td>2.602934</td>\n",
              "      <td>1.289160</td>\n",
              "      <td>0.307061</td>\n",
              "      <td>0.344107</td>\n",
              "      <td>0.845351</td>\n",
              "      <td>0.211586</td>\n",
              "      <td>0.485082</td>\n",
              "      <td>2.226256</td>\n",
              "      <td>0.539035</td>\n",
              "      <td>0.568125</td>\n",
              "      <td>0.517653</td>\n",
              "      <td>0.977126</td>\n",
              "      <td>0.767031</td>\n",
              "      <td>0.429140</td>\n",
              "      <td>0.709846</td>\n",
              "      <td>...</td>\n",
              "      <td>0.510691</td>\n",
              "      <td>0.772501</td>\n",
              "      <td>0.142408</td>\n",
              "      <td>0.815421</td>\n",
              "      <td>0.168057</td>\n",
              "      <td>2.820142</td>\n",
              "      <td>0.283871</td>\n",
              "      <td>0.382219</td>\n",
              "      <td>1.258222</td>\n",
              "      <td>0.194650</td>\n",
              "      <td>0.197168</td>\n",
              "      <td>0.169630</td>\n",
              "      <td>0.120850</td>\n",
              "      <td>0.172463</td>\n",
              "      <td>0.191503</td>\n",
              "      <td>0.197797</td>\n",
              "      <td>0.117860</td>\n",
              "      <td>0.174351</td>\n",
              "      <td>0.133124</td>\n",
              "      <td>0.493312</td>\n",
              "      <td>0.365539</td>\n",
              "      <td>1.467663</td>\n",
              "      <td>2.307160</td>\n",
              "      <td>0.176397</td>\n",
              "      <td>1.517388</td>\n",
              "      <td>0.947915</td>\n",
              "      <td>0.231471</td>\n",
              "      <td>0.208497</td>\n",
              "      <td>0.155311</td>\n",
              "      <td>0.120850</td>\n",
              "      <td>0.136900</td>\n",
              "      <td>0.502282</td>\n",
              "      <td>0.180016</td>\n",
              "      <td>0.199685</td>\n",
              "      <td>0.269866</td>\n",
              "      <td>1.136585</td>\n",
              "      <td>Ts65Dn</td>\n",
              "      <td>Saline</td>\n",
              "      <td>S/C</td>\n",
              "      <td>t-SC-s</td>\n",
              "    </tr>\n",
              "    <tr>\n",
              "      <th>1049</th>\n",
              "      <td>3525_15</td>\n",
              "      <td>0.365907</td>\n",
              "      <td>0.552861</td>\n",
              "      <td>0.386275</td>\n",
              "      <td>2.473812</td>\n",
              "      <td>4.347236</td>\n",
              "      <td>0.353783</td>\n",
              "      <td>0.232784</td>\n",
              "      <td>6.085354</td>\n",
              "      <td>0.242726</td>\n",
              "      <td>1.677740</td>\n",
              "      <td>0.443986</td>\n",
              "      <td>0.402037</td>\n",
              "      <td>0.441562</td>\n",
              "      <td>0.403492</td>\n",
              "      <td>0.877061</td>\n",
              "      <td>0.723327</td>\n",
              "      <td>1.711203</td>\n",
              "      <td>2.512609</td>\n",
              "      <td>0.581959</td>\n",
              "      <td>0.839476</td>\n",
              "      <td>0.382638</td>\n",
              "      <td>0.460718</td>\n",
              "      <td>0.249758</td>\n",
              "      <td>1.054559</td>\n",
              "      <td>2.568138</td>\n",
              "      <td>1.278128</td>\n",
              "      <td>0.299467</td>\n",
              "      <td>0.356208</td>\n",
              "      <td>0.831717</td>\n",
              "      <td>0.207565</td>\n",
              "      <td>0.510427</td>\n",
              "      <td>2.215325</td>\n",
              "      <td>0.536857</td>\n",
              "      <td>0.577352</td>\n",
              "      <td>0.548982</td>\n",
              "      <td>1.000970</td>\n",
              "      <td>0.820563</td>\n",
              "      <td>0.467992</td>\n",
              "      <td>0.765034</td>\n",
              "      <td>...</td>\n",
              "      <td>0.570563</td>\n",
              "      <td>0.822260</td>\n",
              "      <td>0.145508</td>\n",
              "      <td>0.837180</td>\n",
              "      <td>0.171397</td>\n",
              "      <td>2.899563</td>\n",
              "      <td>0.281192</td>\n",
              "      <td>0.350437</td>\n",
              "      <td>1.471304</td>\n",
              "      <td>0.184342</td>\n",
              "      <td>0.205708</td>\n",
              "      <td>0.181223</td>\n",
              "      <td>0.114941</td>\n",
              "      <td>0.166251</td>\n",
              "      <td>0.189488</td>\n",
              "      <td>0.173581</td>\n",
              "      <td>0.123206</td>\n",
              "      <td>0.167187</td>\n",
              "      <td>0.134747</td>\n",
              "      <td>0.474267</td>\n",
              "      <td>0.355427</td>\n",
              "      <td>1.422021</td>\n",
              "      <td>2.279632</td>\n",
              "      <td>0.177636</td>\n",
              "      <td>1.553337</td>\n",
              "      <td>0.902838</td>\n",
              "      <td>0.234248</td>\n",
              "      <td>0.213662</td>\n",
              "      <td>0.172645</td>\n",
              "      <td>0.114941</td>\n",
              "      <td>0.130069</td>\n",
              "      <td>0.487991</td>\n",
              "      <td>0.194635</td>\n",
              "      <td>0.220056</td>\n",
              "      <td>0.242514</td>\n",
              "      <td>1.085621</td>\n",
              "      <td>Ts65Dn</td>\n",
              "      <td>Saline</td>\n",
              "      <td>S/C</td>\n",
              "      <td>t-SC-s</td>\n",
              "    </tr>\n",
              "  </tbody>\n",
              "</table>\n",
              "<p>5 rows × 82 columns</p>\n",
              "</div>"
            ],
            "text/plain": [
              "      MouseID  DYRK1A_N   ITSN1_N  ...  Treatment  Behavior   class\n",
              "1045  3525_11  0.382149  0.595792  ...     Saline       S/C  t-SC-s\n",
              "1046  3525_12  0.387947  0.586510  ...     Saline       S/C  t-SC-s\n",
              "1047  3525_13  0.343695  0.562547  ...     Saline       S/C  t-SC-s\n",
              "1048  3525_14  0.346594  0.551467  ...     Saline       S/C  t-SC-s\n",
              "1049  3525_15  0.365907  0.552861  ...     Saline       S/C  t-SC-s\n",
              "\n",
              "[5 rows x 82 columns]"
            ]
          },
          "metadata": {
            "tags": []
          },
          "execution_count": 3
        }
      ]
    },
    {
      "cell_type": "markdown",
      "metadata": {
        "id": "tKuVUvuVRaTk"
      },
      "source": [
        "df column이 가진 dtype을 확인한다.\n",
        "\n",
        "\n",
        "```\n",
        "df.dtypes.unique()\n",
        "```\n",
        "\n"
      ]
    },
    {
      "cell_type": "code",
      "metadata": {
        "colab": {
          "base_uri": "https://localhost:8080/"
        },
        "id": "s53exiGuAOI3",
        "outputId": "3cd1cc79-d422-4b9e-c72a-93f52189f16f"
      },
      "source": [
        "print(\"data types of columns : {}\".format(df.dtypes.unique()))"
      ],
      "execution_count": 4,
      "outputs": [
        {
          "output_type": "stream",
          "text": [
            "data types of columns : [dtype('O') dtype('float64')]\n"
          ],
          "name": "stdout"
        }
      ]
    },
    {
      "cell_type": "markdown",
      "metadata": {
        "id": "Ey4mTIaHSigB"
      },
      "source": [
        "dtype이 object인 column name을 확인한다.\n",
        "\n",
        "```\n",
        "df.columns[df.dtypes==object]\n",
        "```\n",
        "\n"
      ]
    },
    {
      "cell_type": "code",
      "metadata": {
        "colab": {
          "base_uri": "https://localhost:8080/"
        },
        "id": "5FJAaZpmC6SY",
        "outputId": "0fe1fb65-5e73-47db-a17c-f02129f2c6ee"
      },
      "source": [
        "objs = df.columns[df.dtypes==object]\n",
        "print(\"object type columns : {}\".format(objs))"
      ],
      "execution_count": 5,
      "outputs": [
        {
          "output_type": "stream",
          "text": [
            "object type columns : Index(['MouseID', 'Genotype', 'Treatment', 'Behavior', 'class'], dtype='object')\n"
          ],
          "name": "stdout"
        }
      ]
    },
    {
      "cell_type": "markdown",
      "metadata": {
        "id": "tiBRUGz2SuUv"
      },
      "source": [
        "중복을 제외한 column value의 pair를 확인한다.\n",
        "\n",
        "\n",
        "```\n",
        "df_objs.drop_duplicates().values\n",
        "```"
      ]
    },
    {
      "cell_type": "code",
      "metadata": {
        "colab": {
          "base_uri": "https://localhost:8080/"
        },
        "id": "fGykbyzlIp1u",
        "outputId": "085daa98-5f07-45fd-bf7c-ae894531e1c9"
      },
      "source": [
        "df_objs = df[objs].drop(\"MouseID\", axis=1)\n",
        "df_objs.drop_duplicates().values"
      ],
      "execution_count": 6,
      "outputs": [
        {
          "output_type": "execute_result",
          "data": {
            "text/plain": [
              "array([['Control', 'Memantine', 'C/S', 'c-CS-m'],\n",
              "       ['Control', 'Memantine', 'S/C', 'c-SC-m'],\n",
              "       ['Control', 'Saline', 'C/S', 'c-CS-s'],\n",
              "       ['Control', 'Saline', 'S/C', 'c-SC-s'],\n",
              "       ['Ts65Dn', 'Memantine', 'C/S', 't-CS-m'],\n",
              "       ['Ts65Dn', 'Memantine', 'S/C', 't-SC-m'],\n",
              "       ['Ts65Dn', 'Saline', 'C/S', 't-CS-s'],\n",
              "       ['Ts65Dn', 'Saline', 'S/C', 't-SC-s']], dtype=object)"
            ]
          },
          "metadata": {
            "tags": []
          },
          "execution_count": 6
        }
      ]
    },
    {
      "cell_type": "markdown",
      "metadata": {
        "id": "l3S-GPGQURzd"
      },
      "source": [
        "각 column value의 combination이 `df[\"class\"]` value와 일치하므로 `df[\"class\"]`는 label `y`로 나머지 dtype이 decimal인 column은 feature `X`로 한다.\n",
        "\n",
        "이후 train set과 test set으로 나눈다."
      ]
    },
    {
      "cell_type": "code",
      "metadata": {
        "id": "Hl0Nf-LO_zp8"
      },
      "source": [
        "X = df.drop(objs, axis=1).values\n",
        "# le = LabelEncoder()\n",
        "# le.fit(df[\"class\"].values)\n",
        "# y = le.transform(df[\"class\"])\n",
        "y = df[\"class\"].values\n",
        "X_train, X_test, y_train, y_test = train_test_split(X, y, test_size=0.2, random_state=42)"
      ],
      "execution_count": 7,
      "outputs": []
    },
    {
      "cell_type": "markdown",
      "metadata": {
        "id": "8F4T0lpLUblO"
      },
      "source": [
        "MLPClassifier로 GridSearch를 진행한다."
      ]
    },
    {
      "cell_type": "code",
      "metadata": {
        "colab": {
          "base_uri": "https://localhost:8080/"
        },
        "id": "0StkeO2nfeGg",
        "outputId": "2e05e4f3-d1cc-4c01-f57b-355f50431f91"
      },
      "source": [
        "parameters = {\"hidden_layer_sizes\":((200, 100), (200, 10), (100, 10), (100,)),\n",
        "              \"activation\":(\"relu\", \"logistic\", \"tanh\"),\n",
        "              \"batch_size\":(50, 100, 150, 200),\n",
        "              }\n",
        "grid_search = GridSearchCV(MLPClassifier(max_iter=1000), parameters, n_jobs=-1, cv=3)\n",
        "start_time = timeit.default_timer()\n",
        "grid_search.fit(X_train, y_train)\n",
        "print(\"{:0.3f} seconds\".format(timeit.default_timer() - start_time))"
      ],
      "execution_count": 8,
      "outputs": [
        {
          "output_type": "stream",
          "text": [
            "375.745 seconds\n"
          ],
          "name": "stdout"
        }
      ]
    },
    {
      "cell_type": "markdown",
      "metadata": {
        "id": "xX4-zw3SUnNA"
      },
      "source": [
        "best paramter와 best score를 확인한다."
      ]
    },
    {
      "cell_type": "code",
      "metadata": {
        "colab": {
          "base_uri": "https://localhost:8080/"
        },
        "id": "b6H5O6jN2twv",
        "outputId": "5d4c7f97-3f5c-4a7b-dbd6-b08ea2482969"
      },
      "source": [
        "print(grid_search.best_params_, grid_search.best_score_)"
      ],
      "execution_count": 9,
      "outputs": [
        {
          "output_type": "stream",
          "text": [
            "{'activation': 'tanh', 'batch_size': 200, 'hidden_layer_sizes': (200, 10)} 0.9977324263038548\n"
          ],
          "name": "stdout"
        }
      ]
    },
    {
      "cell_type": "markdown",
      "metadata": {
        "id": "8JLIXhm9U8UM"
      },
      "source": [
        "best parameter로 구성된 best estimaor로 test set에서의 accuracy를 확인한다."
      ]
    },
    {
      "cell_type": "code",
      "metadata": {
        "colab": {
          "base_uri": "https://localhost:8080/"
        },
        "id": "dafkRJyS8Ge-",
        "outputId": "dfe64cc7-c6c6-43f1-de4a-0e0dd7d0b9fb"
      },
      "source": [
        "mlp_clf = grid_search.best_estimator_\n",
        "acc = mlp_clf.score(X_test, y_test)\n",
        "print(acc)"
      ],
      "execution_count": 10,
      "outputs": [
        {
          "output_type": "stream",
          "text": [
            "0.9819819819819819\n"
          ],
          "name": "stdout"
        }
      ]
    },
    {
      "cell_type": "markdown",
      "metadata": {
        "id": "WOYGLKGQVI02"
      },
      "source": [
        "prediction과 label을 가지고, `classification_report`를 이용해 성능을 평가한다."
      ]
    },
    {
      "cell_type": "code",
      "metadata": {
        "colab": {
          "base_uri": "https://localhost:8080/"
        },
        "id": "357TleQk8aw-",
        "outputId": "64d8d2d4-f018-42ea-9d65-cb0e17be8d0a"
      },
      "source": [
        "y_pred = mlp_clf.predict(X_test)\n",
        "report = classification_report(y_test, y_pred)\n",
        "print(report)"
      ],
      "execution_count": 11,
      "outputs": [
        {
          "output_type": "stream",
          "text": [
            "              precision    recall  f1-score   support\n",
            "\n",
            "      c-CS-m       1.00      1.00      1.00        10\n",
            "      c-CS-s       1.00      1.00      1.00        15\n",
            "      c-SC-m       1.00      0.90      0.95        20\n",
            "      c-SC-s       1.00      1.00      1.00        10\n",
            "      t-CS-m       1.00      1.00      1.00        15\n",
            "      t-CS-s       1.00      1.00      1.00         8\n",
            "      t-SC-m       0.89      1.00      0.94        16\n",
            "      t-SC-s       1.00      1.00      1.00        17\n",
            "\n",
            "    accuracy                           0.98       111\n",
            "   macro avg       0.99      0.99      0.99       111\n",
            "weighted avg       0.98      0.98      0.98       111\n",
            "\n"
          ],
          "name": "stdout"
        }
      ]
    }
  ]
}